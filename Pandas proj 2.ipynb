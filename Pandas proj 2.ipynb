{
 "cells": [
  {
   "cell_type": "markdown",
   "metadata": {
    "deletable": false,
    "editable": false,
    "nbgrader": {
     "checksum": "d41d429eba967151d9b20e3dad8759b6",
     "grade": false,
     "grade_id": "cell-a33610baaa7c4cbc",
     "locked": true,
     "schema_version": 1,
     "solution": false
    }
   },
   "source": [
    "# Assignment 1.4 Pandas\n",
    "Pandas is an open source Python package providing fast, flexible, and expressive data structures and data manipulation designed to make working with “relational” or “labeled” data both easy and intuitive. It is the fundamental high-level building block for doing practical, real world data analysis in Python.\n",
    "https://pandas.pydata.org/"
   ]
  },
  {
   "cell_type": "code",
   "execution_count": 1,
   "metadata": {
    "deletable": false,
    "nbgrader": {
     "checksum": "08e3bff5719c6dc91af56012678c8c42",
     "grade": false,
     "grade_id": "cell-462d89bbf25b800a",
     "locked": false,
     "schema_version": 1,
     "solution": true
    }
   },
   "outputs": [],
   "source": [
    "## Import numpy and pandas\n",
    "\n",
    "# YOUR CODE HERE\n",
    "import numpy as np\n",
    "import pandas as pd"
   ]
  },
  {
   "cell_type": "code",
   "execution_count": null,
   "metadata": {
    "deletable": false,
    "editable": false,
    "nbgrader": {
     "checksum": "d019a010a1a6f19518337ca6db803efd",
     "grade": true,
     "grade_id": "cell-ab515cd97836235b",
     "locked": true,
     "points": 1,
     "schema_version": 1,
     "solution": false
    }
   },
   "outputs": [],
   "source": []
  },
  {
   "cell_type": "markdown",
   "metadata": {
    "deletable": false,
    "editable": false,
    "nbgrader": {
     "checksum": "642ca09f8e06e32e4d1f46be4c93d87c",
     "grade": false,
     "grade_id": "cell-5cd560c864a29fd2",
     "locked": true,
     "schema_version": 1,
     "solution": false
    }
   },
   "source": [
    "The two primary data structures of pandas are \n",
    "- Series (1-dimensional) and \n",
    "- DataFrame (2-dimensional)\n",
    "\n",
    "Read this [10 min intro to get started](https://pandas.pydata.org/pandas-docs/stable/10min.html)"
   ]
  },
  {
   "cell_type": "markdown",
   "metadata": {
    "deletable": false,
    "editable": false,
    "nbgrader": {
     "checksum": "bc7d6318e88dbd94007577bde17b1c47",
     "grade": false,
     "grade_id": "cell-bff719dccb9a2b9e",
     "locked": true,
     "schema_version": 1,
     "solution": false
    }
   },
   "source": [
    "### Data Loading\n",
    "\n",
    "You are given two csv files.  \n",
    "- 'sales1.csv'\n",
    "- 'sales2.csv'\n",
    "\n",
    "Load both CSV as dataframes and Investigate the data and its types"
   ]
  },
  {
   "cell_type": "code",
   "execution_count": 2,
   "metadata": {
    "deletable": false,
    "nbgrader": {
     "checksum": "979a6da10f76deb58c10fdec0f5c4b03",
     "grade": false,
     "grade_id": "cell-15bfe6e4718647be",
     "locked": false,
     "schema_version": 1,
     "solution": true
    }
   },
   "outputs": [],
   "source": [
    "# YOUR CODE HERE\n",
    "import pandas as pd\n",
    "import numpy as np\n",
    "file1=pd.read_csv('sales1.csv')\n",
    "file2=pd.read_csv('sales2.csv')"
   ]
  },
  {
   "cell_type": "code",
   "execution_count": null,
   "metadata": {
    "deletable": false,
    "nbgrader": {
     "checksum": "f798019d1360ef07cee51c450ffbe983",
     "grade": false,
     "grade_id": "cell-3c85ac1eab5f8b19",
     "locked": false,
     "schema_version": 1,
     "solution": true
    }
   },
   "outputs": [],
   "source": [
    "# Investigate the data \n",
    "# YOUR CODE HERE\n",
    "print(type(file1))\n",
    "\n",
    "print(type(file2))"
   ]
  },
  {
   "cell_type": "markdown",
   "metadata": {
    "deletable": false,
    "editable": false,
    "nbgrader": {
     "checksum": "7a5be8e0b2896e045dda9ded00435697",
     "grade": false,
     "grade_id": "cell-95ec17ae1e3428dc",
     "locked": true,
     "schema_version": 1,
     "solution": false
    }
   },
   "source": [
    "### Merge Dataframes\n",
    "Merge the two dataframes into a single dataframe \"sales\" based on order id such that new data consist of common order ID and all the other columns.\n",
    "Also analyse the data in different columns.\n",
    "Use [Merge function](https://pandas.pydata.org/pandas-docs/version/0.23.4/generated/pandas.merge.html)"
   ]
  },
  {
   "cell_type": "code",
   "execution_count": 3,
   "metadata": {
    "deletable": false,
    "nbgrader": {
     "checksum": "f8c761073cd6254815425225e78f9bba",
     "grade": false,
     "grade_id": "cell-82ee3339bf5f4570",
     "locked": false,
     "schema_version": 1,
     "solution": true
    }
   },
   "outputs": [],
   "source": [
    "sales = None\n",
    "# YOUR CODE HERE\n",
    "\n",
    "sales=pd.merge(file1,file2,on='Order ID',how='outer')\n",
    "#print(sales)\n",
    "\n"
   ]
  },
  {
   "cell_type": "code",
   "execution_count": null,
   "metadata": {
    "deletable": false,
    "editable": false,
    "nbgrader": {
     "checksum": "2806eeafdcdaccbdc4b4cc929f40dc52",
     "grade": true,
     "grade_id": "cell-52d67c318540c515",
     "locked": true,
     "points": 1,
     "schema_version": 1,
     "solution": false
    }
   },
   "outputs": [],
   "source": [
    "assert(sales[sales[\"Order ID\"]==686800706][\"Country\"].values == \"Libya\")\n",
    "assert(sales[sales[\"Order ID\"]==686800706][\"Item Type\"].values == \"Cosmetics\")"
   ]
  },
  {
   "cell_type": "markdown",
   "metadata": {
    "deletable": false,
    "editable": false,
    "nbgrader": {
     "checksum": "0c4a7ee6c4e20b394813c000aaa6e7e5",
     "grade": false,
     "grade_id": "cell-1a63a8fddc185d92",
     "locked": true,
     "schema_version": 1,
     "solution": false
    }
   },
   "source": [
    "### Data Cleaning\n",
    "If you look at the data we can see some issues,\n",
    "- Some of the Item Type start with \" * \" we want to remove the asterik in the column\n",
    "- Some columns data are missing indicated by NaN (u can try isnull(), isna() function)\n",
    "  - If Region or Country data is missing replace it with unknown\n",
    "  - if other data are missing, remove it from \"sales\" dataframe and add it in a \"missing\" dataframe \n",
    "\n",
    "Reference for this section:\n",
    "- [Working with missing data](https://pandas.pydata.org/pandas-docs/stable/missing_data.html)\n",
    "- [Python Lambda Expressions](https://docs.python.org/3/tutorial/controlflow.html#lambda-expressions)\n",
    "- [Pandas Apply Function](https://pandas.pydata.org/pandas-docs/version/0.18/generated/pandas.Series.apply.html)\n",
    "- [Pandas FillNa](https://pandas.pydata.org/pandas-docs/version/0.17.0/generated/pandas.DataFrame.fillna.html)"
   ]
  },
  {
   "cell_type": "code",
   "execution_count": 4,
   "metadata": {
    "deletable": false,
    "nbgrader": {
     "checksum": "769828ded110c1bbcce5ec49c66e4b7a",
     "grade": false,
     "grade_id": "cell-36c46b4d53bf011c",
     "locked": false,
     "schema_version": 1,
     "solution": true
    }
   },
   "outputs": [
    {
     "name": "stdout",
     "output_type": "stream",
     "text": [
      "Total= 31\n"
     ]
    }
   ],
   "source": [
    "# Investigate dataframe for Null (NA/NAN) and count the number of rows with NA/NAN\n",
    "\n",
    "# YOUR CODE HERE\n",
    "\n",
    "NA_count = sales[sales.isnull().any(axis = 1)].shape[0]\n",
    "# YOUR CODE HERE\n",
    "\n",
    "\n",
    "print(\"Total=\" , NA_count)\n"
   ]
  },
  {
   "cell_type": "code",
   "execution_count": null,
   "metadata": {
    "deletable": false,
    "editable": false,
    "nbgrader": {
     "checksum": "67f29983d63d1af8a2f935463b91c1dd",
     "grade": true,
     "grade_id": "cell-c3f7ee60f7aec5bf",
     "locked": true,
     "points": 1,
     "schema_version": 1,
     "solution": false
    }
   },
   "outputs": [],
   "source": []
  },
  {
   "cell_type": "code",
   "execution_count": 5,
   "metadata": {
    "deletable": false,
    "nbgrader": {
     "checksum": "fa8a28b2de04228fed78fac882abc16e",
     "grade": false,
     "grade_id": "cell-04b3a523548b2603",
     "locked": false,
     "schema_version": 1,
     "solution": true
    }
   },
   "outputs": [],
   "source": [
    "# remove \"*\", NaN, add missing sales data to \"missing\" dataframe \n",
    "# YOUR CODE HERE\n",
    "\n",
    "sales['Item Type'] = sales['Item Type'] .apply(lambda x : str(x).replace(\"*\",\"\"))\n",
    "\n",
    "sales['Region'] = sales['Region'] .fillna(\"unknown\")\n",
    "sales['Country'] = sales['Country'] .fillna(\"unknown\")\n",
    "\n",
    "\n",
    "missing = sales[sales.isna().any(axis = 1)]\n",
    "\n",
    "\n",
    "sales = sales[sales.notnull().all(axis = 1)]"
   ]
  },
  {
   "cell_type": "code",
   "execution_count": null,
   "metadata": {
    "deletable": false,
    "editable": false,
    "nbgrader": {
     "checksum": "345ced3e3c70638654d247d61c24f8e1",
     "grade": true,
     "grade_id": "cell-7bc1b916b4472109",
     "locked": true,
     "points": 1,
     "schema_version": 1,
     "solution": false
    }
   },
   "outputs": [],
   "source": [
    "assert(sales[sales[\"Order ID\"]==267066323][\"Item Type\"].values == \"Cereal\")\n",
    "assert(sales[sales[\"Order ID\"]==267066323][\"Region\"].values == \"unknown\")"
   ]
  },
  {
   "cell_type": "markdown",
   "metadata": {
    "deletable": false,
    "editable": false,
    "nbgrader": {
     "checksum": "292d00250655f8b26327bca313a71691",
     "grade": false,
     "grade_id": "cell-b7f376b167c0a0e1",
     "locked": true,
     "schema_version": 1,
     "solution": false
    }
   },
   "source": [
    "Find the number of unique items available."
   ]
  },
  {
   "cell_type": "code",
   "execution_count": 6,
   "metadata": {
    "deletable": false,
    "nbgrader": {
     "checksum": "a142de6f88c1e081d88f318264a14051",
     "grade": false,
     "grade_id": "cell-588bcfca26c28277",
     "locked": false,
     "schema_version": 1,
     "solution": true
    }
   },
   "outputs": [
    {
     "name": "stdout",
     "output_type": "stream",
     "text": [
      "12\n"
     ]
    }
   ],
   "source": [
    "NumItems = 0\n",
    "# YOUR CODE HERE\n",
    "NumItems=len(set(sales))\n",
    "print(NumItems)"
   ]
  },
  {
   "cell_type": "code",
   "execution_count": null,
   "metadata": {
    "deletable": false,
    "editable": false,
    "nbgrader": {
     "checksum": "2bfcd9d2ec2ce847ffc0e5bc082542d2",
     "grade": true,
     "grade_id": "cell-51b5cda4685cd3d0",
     "locked": true,
     "points": 1,
     "schema_version": 1,
     "solution": false
    }
   },
   "outputs": [],
   "source": []
  },
  {
   "cell_type": "code",
   "execution_count": null,
   "metadata": {},
   "outputs": [],
   "source": [
    "sales.groupby('Item Type', as_index = False)['Unit Cost'].describe()"
   ]
  },
  {
   "cell_type": "markdown",
   "metadata": {
    "deletable": false,
    "editable": false,
    "nbgrader": {
     "checksum": "30f9df926721e91b2a1ae31032484b80",
     "grade": false,
     "grade_id": "cell-cfa8b8b8e2659c68",
     "locked": true,
     "schema_version": 1,
     "solution": false
    }
   },
   "source": [
    "### Grouping and Analysis \n",
    "Find out the statistical summary for ‘Unit Cost’ column for each Items.\n",
    "Then extract the count, mean and std for \"Cereal\",\"Fruits\",\"Vegetables\",\"Baby Food\" and \"Meat\" as a dataframe \"Kitchen\"\n",
    "References:\n",
    "- [Pandas Indexing](https://pandas.pydata.org/pandas-docs/stable/indexing.html)\n",
    "- [Groupby](https://pandas.pydata.org/pandas-docs/stable/groupby.html)\n",
    "- [Loc](https://pandas.pydata.org/pandas-docs/version/0.23.4/generated/pandas.DataFrame.loc.html)\n",
    "- [filter](https://pandas.pydata.org/pandas-docs/stable/generated/pandas.DataFrame.filter.html)"
   ]
  },
  {
   "cell_type": "code",
   "execution_count": 7,
   "metadata": {
    "deletable": false,
    "nbgrader": {
     "checksum": "513a7611c6e04665a464e3755afa3800",
     "grade": false,
     "grade_id": "cell-d5b95b853fd96b60",
     "locked": false,
     "schema_version": 1,
     "solution": true
    },
    "scrolled": true
   },
   "outputs": [
    {
     "name": "stderr",
     "output_type": "stream",
     "text": [
      "/opt/conda/lib/python3.6/site-packages/ipykernel_launcher.py:3: FutureWarning: \n",
      "Passing list-likes to .loc or [] with any missing label will raise\n",
      "KeyError in the future, you can use .reindex() as an alternative.\n",
      "\n",
      "See the documentation here:\n",
      "https://pandas.pydata.org/pandas-docs/stable/indexing.html#deprecate-loc-reindex-listlike\n",
      "  This is separate from the ipykernel package so we can avoid doing imports until\n"
     ]
    }
   ],
   "source": [
    "coll = sales.groupby(['Item Type'])['Unit Cost'].describe()\n",
    "# YOUR CODE HERE\n",
    "Kitchen=coll.loc[[\"Cereal\",\"Fruits\",\"Vegetables\",\"Baby Food\",\"Meat\"] , [ 'count', ' mean' , 'std']]\n"
   ]
  },
  {
   "cell_type": "code",
   "execution_count": null,
   "metadata": {},
   "outputs": [],
   "source": [
    "#"
   ]
  },
  {
   "cell_type": "code",
   "execution_count": null,
   "metadata": {
    "deletable": false,
    "editable": false,
    "nbgrader": {
     "checksum": "5351b57418bbed9078d4db7147a7f371",
     "grade": true,
     "grade_id": "cell-986e659a273a364c",
     "locked": true,
     "points": 1,
     "schema_version": 1,
     "solution": false
    },
    "scrolled": true
   },
   "outputs": [],
   "source": [
    "assert(Kitchen.loc[\"Cereal\"][\"count\"]==77)"
   ]
  },
  {
   "cell_type": "code",
   "execution_count": 8,
   "metadata": {
    "deletable": false,
    "nbgrader": {
     "checksum": "2cd283e5ac7d7f5a6f7ddc6f50ad7745",
     "grade": false,
     "grade_id": "cell-346f31cb4ea47c75",
     "locked": false,
     "schema_version": 1,
     "solution": true
    }
   },
   "outputs": [],
   "source": [
    "#Generate the new column ‘Total Profit’ for each orders (Total Profit = Total Revenue - Total Cost)\n",
    "# YOUR CODE HERE\n",
    "import pandas as pd\n",
    "# YOUR CODE HERE\n",
    "sales['Total Profit'] = sales['Total Revenue'] - sales['Total Cost']"
   ]
  },
  {
   "cell_type": "code",
   "execution_count": null,
   "metadata": {
    "deletable": false,
    "editable": false,
    "nbgrader": {
     "checksum": "a9501765311bc149f1f671b8153a61c0",
     "grade": true,
     "grade_id": "cell-6419595bc71f6a09",
     "locked": true,
     "points": 1,
     "schema_version": 1,
     "solution": false
    }
   },
   "outputs": [],
   "source": [
    "assert(sales[sales[\"Order ID\"]==246222341][\"Total Profit\"].values == 145419.62)"
   ]
  },
  {
   "cell_type": "code",
   "execution_count": 10,
   "metadata": {
    "deletable": false,
    "nbgrader": {
     "checksum": "4c97685b968d73e2c8e20ed221c3bfdd",
     "grade": false,
     "grade_id": "cell-aae9d532c4dabf17",
     "locked": false,
     "schema_version": 1,
     "solution": true
    }
   },
   "outputs": [
    {
     "data": {
      "text/plain": [
       "972"
      ]
     },
     "execution_count": 10,
     "metadata": {},
     "output_type": "execute_result"
    }
   ],
   "source": [
    "# How many data sets are there with profit greater than 60%\n",
    "\n",
    "import pandas as pd\n",
    "# YOUR CODE HERE\n",
    "#ans = None\n",
    "sales['Total Profit%'] = sales['Total Profit'] /sales['Total Cost'] *100\n",
    "\n",
    "ans = (sales['Total Profit%']  >= 60).count()\n",
    "\n",
    "ans\n",
    "\n",
    "\n",
    "\n"
   ]
  },
  {
   "cell_type": "code",
   "execution_count": null,
   "metadata": {
    "deletable": false,
    "editable": false,
    "nbgrader": {
     "checksum": "327b4bbd3c5f0005a96766d3317f38c4",
     "grade": true,
     "grade_id": "cell-c053463e75781632",
     "locked": true,
     "points": 1,
     "schema_version": 1,
     "solution": false
    }
   },
   "outputs": [],
   "source": []
  },
  {
   "cell_type": "code",
   "execution_count": null,
   "metadata": {},
   "outputs": [],
   "source": []
  }
 ],
 "metadata": {
  "kernelspec": {
   "display_name": "Python 3",
   "language": "python",
   "name": "python3"
  },
  "language_info": {
   "codemirror_mode": {
    "name": "ipython",
    "version": 3
   },
   "file_extension": ".py",
   "mimetype": "text/x-python",
   "name": "python",
   "nbconvert_exporter": "python",
   "pygments_lexer": "ipython3",
   "version": "3.6.7"
  }
 },
 "nbformat": 4,
 "nbformat_minor": 2
}
